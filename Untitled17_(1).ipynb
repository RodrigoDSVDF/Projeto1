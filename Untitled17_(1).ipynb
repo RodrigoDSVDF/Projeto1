{
  "nbformat": 4,
  "nbformat_minor": 0,
  "metadata": {
    "kernelspec": {
      "display_name": "Python 3",
      "language": "python",
      "name": "python3"
    },
    "language_info": {
      "codemirror_mode": {
        "name": "ipython",
        "version": 3
      },
      "file_extension": ".py",
      "mimetype": "text/x-python",
      "name": "python",
      "nbconvert_exporter": "python",
      "pygments_lexer": "ipython3",
      "version": "3.8.5"
    },
    "colab": {
      "name": "Untitled17 (1).ipynb",
      "provenance": [],
      "include_colab_link": true
    }
  },
  "cells": [
    {
      "cell_type": "markdown",
      "metadata": {
        "id": "view-in-github",
        "colab_type": "text"
      },
      "source": [
        "<a href=\"https://colab.research.google.com/github/RodrigoDSVDF/Projeto1/blob/main/Untitled17_(1).ipynb\" target=\"_parent\"><img src=\"https://colab.research.google.com/assets/colab-badge.svg\" alt=\"Open In Colab\"/></a>"
      ]
    },
    {
      "cell_type": "code",
      "metadata": {
        "id": "6usp26ibBvrr"
      },
      "source": [
        "import pandas as pd\n",
        "import matplotlib.pyplot as plt\n"
      ],
      "execution_count": null,
      "outputs": []
    },
    {
      "cell_type": "code",
      "metadata": {
        "id": "I9wJRbhrBvrt"
      },
      "source": [
        "mercado = pd.read_csv('C:/Users/Rodrigo_df/Desktop/trabalhofaculdade/trabalho16.csv')"
      ],
      "execution_count": null,
      "outputs": []
    },
    {
      "cell_type": "code",
      "metadata": {
        "id": "wVtps8b-Bvru",
        "outputId": "1280dc58-e7ca-4574-afa2-78e52c9c6a31"
      },
      "source": [
        "mercado.shape"
      ],
      "execution_count": null,
      "outputs": [
        {
          "output_type": "execute_result",
          "data": {
            "text/plain": [
              "(1000, 17)"
            ]
          },
          "metadata": {
            "tags": []
          },
          "execution_count": 18
        }
      ]
    },
    {
      "cell_type": "code",
      "metadata": {
        "id": "WXU997LWBvrv",
        "outputId": "7fddd09c-d8d6-4f6b-9e04-1c1a4bde3053"
      },
      "source": [
        "mercado.head()"
      ],
      "execution_count": null,
      "outputs": [
        {
          "output_type": "execute_result",
          "data": {
            "text/html": [
              "<div>\n",
              "<style scoped>\n",
              "    .dataframe tbody tr th:only-of-type {\n",
              "        vertical-align: middle;\n",
              "    }\n",
              "\n",
              "    .dataframe tbody tr th {\n",
              "        vertical-align: top;\n",
              "    }\n",
              "\n",
              "    .dataframe thead th {\n",
              "        text-align: right;\n",
              "    }\n",
              "</style>\n",
              "<table border=\"1\" class=\"dataframe\">\n",
              "  <thead>\n",
              "    <tr style=\"text-align: right;\">\n",
              "      <th></th>\n",
              "      <th>Invoice ID</th>\n",
              "      <th>Branch</th>\n",
              "      <th>City</th>\n",
              "      <th>Customer type</th>\n",
              "      <th>Gender</th>\n",
              "      <th>Product line</th>\n",
              "      <th>Unit price</th>\n",
              "      <th>Quantity</th>\n",
              "      <th>Tax 5%</th>\n",
              "      <th>Total</th>\n",
              "      <th>Date</th>\n",
              "      <th>Time</th>\n",
              "      <th>Payment</th>\n",
              "      <th>cogs</th>\n",
              "      <th>gross margin percentage</th>\n",
              "      <th>gross income</th>\n",
              "      <th>Rating</th>\n",
              "    </tr>\n",
              "  </thead>\n",
              "  <tbody>\n",
              "    <tr>\n",
              "      <th>0</th>\n",
              "      <td>750-67-8428</td>\n",
              "      <td>A</td>\n",
              "      <td>Yangon</td>\n",
              "      <td>Member</td>\n",
              "      <td>Female</td>\n",
              "      <td>Health and beauty</td>\n",
              "      <td>74.69</td>\n",
              "      <td>7</td>\n",
              "      <td>26.1415</td>\n",
              "      <td>548.9715</td>\n",
              "      <td>1/5/2019</td>\n",
              "      <td>13:08</td>\n",
              "      <td>Ewallet</td>\n",
              "      <td>522.83</td>\n",
              "      <td>4.761905</td>\n",
              "      <td>26.1415</td>\n",
              "      <td>9.1</td>\n",
              "    </tr>\n",
              "    <tr>\n",
              "      <th>1</th>\n",
              "      <td>226-31-3081</td>\n",
              "      <td>C</td>\n",
              "      <td>Naypyitaw</td>\n",
              "      <td>Normal</td>\n",
              "      <td>Female</td>\n",
              "      <td>Electronic accessories</td>\n",
              "      <td>15.28</td>\n",
              "      <td>5</td>\n",
              "      <td>3.8200</td>\n",
              "      <td>80.2200</td>\n",
              "      <td>3/8/2019</td>\n",
              "      <td>10:29</td>\n",
              "      <td>Cash</td>\n",
              "      <td>76.40</td>\n",
              "      <td>4.761905</td>\n",
              "      <td>3.8200</td>\n",
              "      <td>9.6</td>\n",
              "    </tr>\n",
              "    <tr>\n",
              "      <th>2</th>\n",
              "      <td>631-41-3108</td>\n",
              "      <td>A</td>\n",
              "      <td>Yangon</td>\n",
              "      <td>Normal</td>\n",
              "      <td>Male</td>\n",
              "      <td>Home and lifestyle</td>\n",
              "      <td>46.33</td>\n",
              "      <td>7</td>\n",
              "      <td>16.2155</td>\n",
              "      <td>340.5255</td>\n",
              "      <td>3/3/2019</td>\n",
              "      <td>13:23</td>\n",
              "      <td>Credit card</td>\n",
              "      <td>324.31</td>\n",
              "      <td>4.761905</td>\n",
              "      <td>16.2155</td>\n",
              "      <td>7.4</td>\n",
              "    </tr>\n",
              "    <tr>\n",
              "      <th>3</th>\n",
              "      <td>123-19-1176</td>\n",
              "      <td>A</td>\n",
              "      <td>Yangon</td>\n",
              "      <td>Member</td>\n",
              "      <td>Male</td>\n",
              "      <td>Health and beauty</td>\n",
              "      <td>58.22</td>\n",
              "      <td>8</td>\n",
              "      <td>23288.0000</td>\n",
              "      <td>489048.0000</td>\n",
              "      <td>1/27/2019</td>\n",
              "      <td>20:33</td>\n",
              "      <td>Ewallet</td>\n",
              "      <td>465.76</td>\n",
              "      <td>4.761905</td>\n",
              "      <td>23288.0000</td>\n",
              "      <td>8.4</td>\n",
              "    </tr>\n",
              "    <tr>\n",
              "      <th>4</th>\n",
              "      <td>373-73-7910</td>\n",
              "      <td>A</td>\n",
              "      <td>Yangon</td>\n",
              "      <td>Normal</td>\n",
              "      <td>Male</td>\n",
              "      <td>Sports and travel</td>\n",
              "      <td>86.31</td>\n",
              "      <td>7</td>\n",
              "      <td>30.2085</td>\n",
              "      <td>634.3785</td>\n",
              "      <td>2/8/2019</td>\n",
              "      <td>10:37</td>\n",
              "      <td>Ewallet</td>\n",
              "      <td>604.17</td>\n",
              "      <td>4.761905</td>\n",
              "      <td>30.2085</td>\n",
              "      <td>5.3</td>\n",
              "    </tr>\n",
              "  </tbody>\n",
              "</table>\n",
              "</div>"
            ],
            "text/plain": [
              "    Invoice ID Branch       City Customer type  Gender  \\\n",
              "0  750-67-8428      A     Yangon        Member  Female   \n",
              "1  226-31-3081      C  Naypyitaw        Normal  Female   \n",
              "2  631-41-3108      A     Yangon        Normal    Male   \n",
              "3  123-19-1176      A     Yangon        Member    Male   \n",
              "4  373-73-7910      A     Yangon        Normal    Male   \n",
              "\n",
              "             Product line  Unit price  Quantity      Tax 5%        Total  \\\n",
              "0       Health and beauty       74.69         7     26.1415     548.9715   \n",
              "1  Electronic accessories       15.28         5      3.8200      80.2200   \n",
              "2      Home and lifestyle       46.33         7     16.2155     340.5255   \n",
              "3       Health and beauty       58.22         8  23288.0000  489048.0000   \n",
              "4       Sports and travel       86.31         7     30.2085     634.3785   \n",
              "\n",
              "        Date   Time      Payment    cogs  gross margin percentage  \\\n",
              "0   1/5/2019  13:08      Ewallet  522.83                 4.761905   \n",
              "1   3/8/2019  10:29         Cash   76.40                 4.761905   \n",
              "2   3/3/2019  13:23  Credit card  324.31                 4.761905   \n",
              "3  1/27/2019  20:33      Ewallet  465.76                 4.761905   \n",
              "4   2/8/2019  10:37      Ewallet  604.17                 4.761905   \n",
              "\n",
              "   gross income  Rating  \n",
              "0       26.1415     9.1  \n",
              "1        3.8200     9.6  \n",
              "2       16.2155     7.4  \n",
              "3    23288.0000     8.4  \n",
              "4       30.2085     5.3  "
            ]
          },
          "metadata": {
            "tags": []
          },
          "execution_count": 31
        }
      ]
    },
    {
      "cell_type": "code",
      "metadata": {
        "id": "jGL5nsZ5Bvrw",
        "outputId": "5dc6f5e4-b6a3-42e4-e0ea-b1919d9c2ca8"
      },
      "source": [
        "\n",
        "mercado.columns"
      ],
      "execution_count": null,
      "outputs": [
        {
          "output_type": "execute_result",
          "data": {
            "text/plain": [
              "Index(['Invoice ID', 'Branch', 'City', 'Customer type', 'Gender',\n",
              "       'Product line', 'Unit price', 'Quantity', 'Tax 5%', 'Total', 'Date',\n",
              "       'Time', 'Payment', 'cogs', 'gross margin percentage', 'gross income',\n",
              "       'Rating'],\n",
              "      dtype='object')"
            ]
          },
          "metadata": {
            "tags": []
          },
          "execution_count": 5
        }
      ]
    },
    {
      "cell_type": "code",
      "metadata": {
        "id": "Rghr27s6Bvrw"
      },
      "source": [
        "# Taduzindo o nome das colunas\n",
        "\n",
        "mercado.columns = ['ID','Filial','Cidade','Tipo de cliente', 'Genero',\n",
        "       'Linha de produtos', 'Preçounitário', 'Quantidade', 'Imposto 5%', 'Total', 'Data',\n",
        "       'Tempo', 'Pagamento', 'engrenagens', 'porcentagem da margem bruta', 'receita bruta',\n",
        "       'Avaliação']"
      ],
      "execution_count": null,
      "outputs": []
    },
    {
      "cell_type": "code",
      "metadata": {
        "id": "RmQhfnsGBvrx",
        "outputId": "ee246c1f-8b18-4ef5-d5fc-0e8da1ebc55e"
      },
      "source": [
        "mercado.head()"
      ],
      "execution_count": null,
      "outputs": [
        {
          "output_type": "execute_result",
          "data": {
            "text/html": [
              "<div>\n",
              "<style scoped>\n",
              "    .dataframe tbody tr th:only-of-type {\n",
              "        vertical-align: middle;\n",
              "    }\n",
              "\n",
              "    .dataframe tbody tr th {\n",
              "        vertical-align: top;\n",
              "    }\n",
              "\n",
              "    .dataframe thead th {\n",
              "        text-align: right;\n",
              "    }\n",
              "</style>\n",
              "<table border=\"1\" class=\"dataframe\">\n",
              "  <thead>\n",
              "    <tr style=\"text-align: right;\">\n",
              "      <th></th>\n",
              "      <th>ID</th>\n",
              "      <th>Filial</th>\n",
              "      <th>Cidade</th>\n",
              "      <th>Tipo de cliente</th>\n",
              "      <th>Genero</th>\n",
              "      <th>Linha de produtos</th>\n",
              "      <th>Preçounitário</th>\n",
              "      <th>Quantidade</th>\n",
              "      <th>Imposto 5%</th>\n",
              "      <th>Total</th>\n",
              "      <th>Data</th>\n",
              "      <th>Tempo</th>\n",
              "      <th>Pagamento</th>\n",
              "      <th>engrenagens</th>\n",
              "      <th>porcentagem da margem bruta</th>\n",
              "      <th>receita bruta</th>\n",
              "      <th>Avaliação</th>\n",
              "    </tr>\n",
              "  </thead>\n",
              "  <tbody>\n",
              "    <tr>\n",
              "      <th>0</th>\n",
              "      <td>750-67-8428</td>\n",
              "      <td>A</td>\n",
              "      <td>Yangon</td>\n",
              "      <td>Member</td>\n",
              "      <td>Female</td>\n",
              "      <td>Health and beauty</td>\n",
              "      <td>74.69</td>\n",
              "      <td>7</td>\n",
              "      <td>26.1415</td>\n",
              "      <td>548.9715</td>\n",
              "      <td>1/5/2019</td>\n",
              "      <td>13:08</td>\n",
              "      <td>Ewallet</td>\n",
              "      <td>522.83</td>\n",
              "      <td>4.761905</td>\n",
              "      <td>26.1415</td>\n",
              "      <td>9.1</td>\n",
              "    </tr>\n",
              "    <tr>\n",
              "      <th>1</th>\n",
              "      <td>226-31-3081</td>\n",
              "      <td>C</td>\n",
              "      <td>Naypyitaw</td>\n",
              "      <td>Normal</td>\n",
              "      <td>Female</td>\n",
              "      <td>Electronic accessories</td>\n",
              "      <td>15.28</td>\n",
              "      <td>5</td>\n",
              "      <td>3.8200</td>\n",
              "      <td>80.2200</td>\n",
              "      <td>3/8/2019</td>\n",
              "      <td>10:29</td>\n",
              "      <td>Cash</td>\n",
              "      <td>76.40</td>\n",
              "      <td>4.761905</td>\n",
              "      <td>3.8200</td>\n",
              "      <td>9.6</td>\n",
              "    </tr>\n",
              "    <tr>\n",
              "      <th>2</th>\n",
              "      <td>631-41-3108</td>\n",
              "      <td>A</td>\n",
              "      <td>Yangon</td>\n",
              "      <td>Normal</td>\n",
              "      <td>Male</td>\n",
              "      <td>Home and lifestyle</td>\n",
              "      <td>46.33</td>\n",
              "      <td>7</td>\n",
              "      <td>16.2155</td>\n",
              "      <td>340.5255</td>\n",
              "      <td>3/3/2019</td>\n",
              "      <td>13:23</td>\n",
              "      <td>Credit card</td>\n",
              "      <td>324.31</td>\n",
              "      <td>4.761905</td>\n",
              "      <td>16.2155</td>\n",
              "      <td>7.4</td>\n",
              "    </tr>\n",
              "    <tr>\n",
              "      <th>3</th>\n",
              "      <td>123-19-1176</td>\n",
              "      <td>A</td>\n",
              "      <td>Yangon</td>\n",
              "      <td>Member</td>\n",
              "      <td>Male</td>\n",
              "      <td>Health and beauty</td>\n",
              "      <td>58.22</td>\n",
              "      <td>8</td>\n",
              "      <td>23288.0000</td>\n",
              "      <td>489048.0000</td>\n",
              "      <td>1/27/2019</td>\n",
              "      <td>20:33</td>\n",
              "      <td>Ewallet</td>\n",
              "      <td>465.76</td>\n",
              "      <td>4.761905</td>\n",
              "      <td>23288.0000</td>\n",
              "      <td>8.4</td>\n",
              "    </tr>\n",
              "    <tr>\n",
              "      <th>4</th>\n",
              "      <td>373-73-7910</td>\n",
              "      <td>A</td>\n",
              "      <td>Yangon</td>\n",
              "      <td>Normal</td>\n",
              "      <td>Male</td>\n",
              "      <td>Sports and travel</td>\n",
              "      <td>86.31</td>\n",
              "      <td>7</td>\n",
              "      <td>30.2085</td>\n",
              "      <td>634.3785</td>\n",
              "      <td>2/8/2019</td>\n",
              "      <td>10:37</td>\n",
              "      <td>Ewallet</td>\n",
              "      <td>604.17</td>\n",
              "      <td>4.761905</td>\n",
              "      <td>30.2085</td>\n",
              "      <td>5.3</td>\n",
              "    </tr>\n",
              "  </tbody>\n",
              "</table>\n",
              "</div>"
            ],
            "text/plain": [
              "            ID Filial     Cidade Tipo de cliente  Genero  \\\n",
              "0  750-67-8428      A     Yangon          Member  Female   \n",
              "1  226-31-3081      C  Naypyitaw          Normal  Female   \n",
              "2  631-41-3108      A     Yangon          Normal    Male   \n",
              "3  123-19-1176      A     Yangon          Member    Male   \n",
              "4  373-73-7910      A     Yangon          Normal    Male   \n",
              "\n",
              "        Linha de produtos  Preçounitário  Quantidade  Imposto 5%        Total  \\\n",
              "0       Health and beauty          74.69           7     26.1415     548.9715   \n",
              "1  Electronic accessories          15.28           5      3.8200      80.2200   \n",
              "2      Home and lifestyle          46.33           7     16.2155     340.5255   \n",
              "3       Health and beauty          58.22           8  23288.0000  489048.0000   \n",
              "4       Sports and travel          86.31           7     30.2085     634.3785   \n",
              "\n",
              "        Data  Tempo    Pagamento  engrenagens  porcentagem da margem bruta  \\\n",
              "0   1/5/2019  13:08      Ewallet       522.83                     4.761905   \n",
              "1   3/8/2019  10:29         Cash        76.40                     4.761905   \n",
              "2   3/3/2019  13:23  Credit card       324.31                     4.761905   \n",
              "3  1/27/2019  20:33      Ewallet       465.76                     4.761905   \n",
              "4   2/8/2019  10:37      Ewallet       604.17                     4.761905   \n",
              "\n",
              "   receita bruta  Avaliação  \n",
              "0        26.1415        9.1  \n",
              "1         3.8200        9.6  \n",
              "2        16.2155        7.4  \n",
              "3     23288.0000        8.4  \n",
              "4        30.2085        5.3  "
            ]
          },
          "metadata": {
            "tags": []
          },
          "execution_count": 33
        }
      ]
    },
    {
      "cell_type": "code",
      "metadata": {
        "id": "1e_O552PBvrx",
        "outputId": "2da6dc77-5ee0-484e-de83-d16f698d3c1b"
      },
      "source": [
        "# Valor da coluna de Avalição\n",
        "mercado['Avaliação']"
      ],
      "execution_count": null,
      "outputs": [
        {
          "output_type": "execute_result",
          "data": {
            "text/plain": [
              "0      9.1\n",
              "1      9.6\n",
              "2      7.4\n",
              "3      8.4\n",
              "4      5.3\n",
              "      ... \n",
              "995    6.2\n",
              "996    4.4\n",
              "997    7.7\n",
              "998    4.1\n",
              "999    6.6\n",
              "Name: Avaliação, Length: 1000, dtype: float64"
            ]
          },
          "metadata": {
            "tags": []
          },
          "execution_count": 34
        }
      ]
    },
    {
      "cell_type": "code",
      "metadata": {
        "id": "tMfEd0QWBvrx",
        "outputId": "1cfce476-7ff8-4303-9d51-29daca47494b"
      },
      "source": [
        "mercado['Avaliação'].unique()"
      ],
      "execution_count": null,
      "outputs": [
        {
          "output_type": "execute_result",
          "data": {
            "text/plain": [
              "array([ 9.1,  9.6,  7.4,  8.4,  5.3,  4.1,  5.8,  8. ,  7.2,  5.9,  4.5,\n",
              "        6.8,  7.1,  8.2,  5.7,  4.6,  6.9,  8.6,  4.4,  4.8,  5.1,  9.9,\n",
              "        6. ,  8.5,  6.7,  7.7,  7.5,  7. ,  4.7,  7.6,  7.9,  6.3,  5.6,\n",
              "        9.5,  8.1,  6.5,  6.1,  6.6,  5.4,  9.3, 10. ,  6.4,  4.3,  4. ,\n",
              "        8.7,  9.4,  5.5,  8.3,  7.3,  4.9,  4.2,  9.2,  7.8,  5.2,  9. ,\n",
              "        8.8,  6.2,  9.8,  9.7,  5. ,  8.9])"
            ]
          },
          "metadata": {
            "tags": []
          },
          "execution_count": 35
        }
      ]
    },
    {
      "cell_type": "code",
      "metadata": {
        "id": "a_Y2f-0IBvry",
        "outputId": "3e653a75-a9af-4bd8-b38c-74825675943f"
      },
      "source": [
        "# Media da Avaliação\n",
        "mercado['Avaliação'].mean()"
      ],
      "execution_count": null,
      "outputs": [
        {
          "output_type": "execute_result",
          "data": {
            "text/plain": [
              "6.972700000000003"
            ]
          },
          "metadata": {
            "tags": []
          },
          "execution_count": 36
        }
      ]
    },
    {
      "cell_type": "code",
      "metadata": {
        "id": "21EK9nFXBvry",
        "outputId": "ce6f8c1e-088a-479c-b2d0-d98e65594709"
      },
      "source": [
        "mercado.describe()"
      ],
      "execution_count": null,
      "outputs": [
        {
          "output_type": "execute_result",
          "data": {
            "text/html": [
              "<div>\n",
              "<style scoped>\n",
              "    .dataframe tbody tr th:only-of-type {\n",
              "        vertical-align: middle;\n",
              "    }\n",
              "\n",
              "    .dataframe tbody tr th {\n",
              "        vertical-align: top;\n",
              "    }\n",
              "\n",
              "    .dataframe thead th {\n",
              "        text-align: right;\n",
              "    }\n",
              "</style>\n",
              "<table border=\"1\" class=\"dataframe\">\n",
              "  <thead>\n",
              "    <tr style=\"text-align: right;\">\n",
              "      <th></th>\n",
              "      <th>Preçounitário</th>\n",
              "      <th>Quantidade</th>\n",
              "      <th>Imposto 5%</th>\n",
              "      <th>Total</th>\n",
              "      <th>engrenagens</th>\n",
              "      <th>porcentagem da margem bruta</th>\n",
              "      <th>receita bruta</th>\n",
              "      <th>Avaliação</th>\n",
              "    </tr>\n",
              "  </thead>\n",
              "  <tbody>\n",
              "    <tr>\n",
              "      <th>count</th>\n",
              "      <td>1000.000000</td>\n",
              "      <td>1000.000000</td>\n",
              "      <td>1000.000000</td>\n",
              "      <td>1.000000e+03</td>\n",
              "      <td>1000.00000</td>\n",
              "      <td>1.000000e+03</td>\n",
              "      <td>1000.000000</td>\n",
              "      <td>1000.00000</td>\n",
              "    </tr>\n",
              "    <tr>\n",
              "      <th>mean</th>\n",
              "      <td>55.672130</td>\n",
              "      <td>5.510000</td>\n",
              "      <td>8938.880935</td>\n",
              "      <td>1.877165e+05</td>\n",
              "      <td>307.58738</td>\n",
              "      <td>4.761905e+00</td>\n",
              "      <td>8938.880935</td>\n",
              "      <td>6.97270</td>\n",
              "    </tr>\n",
              "    <tr>\n",
              "      <th>std</th>\n",
              "      <td>26.494628</td>\n",
              "      <td>2.923431</td>\n",
              "      <td>11287.611805</td>\n",
              "      <td>2.370398e+05</td>\n",
              "      <td>234.17651</td>\n",
              "      <td>6.220360e-14</td>\n",
              "      <td>11287.611805</td>\n",
              "      <td>1.71858</td>\n",
              "    </tr>\n",
              "    <tr>\n",
              "      <th>min</th>\n",
              "      <td>10.080000</td>\n",
              "      <td>1.000000</td>\n",
              "      <td>0.508500</td>\n",
              "      <td>1.067850e+01</td>\n",
              "      <td>10.17000</td>\n",
              "      <td>4.761905e+00</td>\n",
              "      <td>0.508500</td>\n",
              "      <td>4.00000</td>\n",
              "    </tr>\n",
              "    <tr>\n",
              "      <th>25%</th>\n",
              "      <td>32.875000</td>\n",
              "      <td>3.000000</td>\n",
              "      <td>18.144000</td>\n",
              "      <td>3.810240e+02</td>\n",
              "      <td>118.49750</td>\n",
              "      <td>4.761905e+00</td>\n",
              "      <td>18.144000</td>\n",
              "      <td>5.50000</td>\n",
              "    </tr>\n",
              "    <tr>\n",
              "      <th>50%</th>\n",
              "      <td>55.230000</td>\n",
              "      <td>5.000000</td>\n",
              "      <td>4322.000000</td>\n",
              "      <td>9.076200e+04</td>\n",
              "      <td>241.76000</td>\n",
              "      <td>4.761905e+00</td>\n",
              "      <td>4322.000000</td>\n",
              "      <td>7.00000</td>\n",
              "    </tr>\n",
              "    <tr>\n",
              "      <th>75%</th>\n",
              "      <td>77.935000</td>\n",
              "      <td>8.000000</td>\n",
              "      <td>14300.250000</td>\n",
              "      <td>3.003052e+05</td>\n",
              "      <td>448.90500</td>\n",
              "      <td>4.761905e+00</td>\n",
              "      <td>14300.250000</td>\n",
              "      <td>8.50000</td>\n",
              "    </tr>\n",
              "    <tr>\n",
              "      <th>max</th>\n",
              "      <td>99.960000</td>\n",
              "      <td>10.000000</td>\n",
              "      <td>48685.000000</td>\n",
              "      <td>1.022385e+06</td>\n",
              "      <td>993.00000</td>\n",
              "      <td>4.761905e+00</td>\n",
              "      <td>48685.000000</td>\n",
              "      <td>10.00000</td>\n",
              "    </tr>\n",
              "  </tbody>\n",
              "</table>\n",
              "</div>"
            ],
            "text/plain": [
              "       Preçounitário   Quantidade    Imposto 5%         Total  engrenagens  \\\n",
              "count    1000.000000  1000.000000   1000.000000  1.000000e+03   1000.00000   \n",
              "mean       55.672130     5.510000   8938.880935  1.877165e+05    307.58738   \n",
              "std        26.494628     2.923431  11287.611805  2.370398e+05    234.17651   \n",
              "min        10.080000     1.000000      0.508500  1.067850e+01     10.17000   \n",
              "25%        32.875000     3.000000     18.144000  3.810240e+02    118.49750   \n",
              "50%        55.230000     5.000000   4322.000000  9.076200e+04    241.76000   \n",
              "75%        77.935000     8.000000  14300.250000  3.003052e+05    448.90500   \n",
              "max        99.960000    10.000000  48685.000000  1.022385e+06    993.00000   \n",
              "\n",
              "       porcentagem da margem bruta  receita bruta   Avaliação  \n",
              "count                 1.000000e+03    1000.000000  1000.00000  \n",
              "mean                  4.761905e+00    8938.880935     6.97270  \n",
              "std                   6.220360e-14   11287.611805     1.71858  \n",
              "min                   4.761905e+00       0.508500     4.00000  \n",
              "25%                   4.761905e+00      18.144000     5.50000  \n",
              "50%                   4.761905e+00    4322.000000     7.00000  \n",
              "75%                   4.761905e+00   14300.250000     8.50000  \n",
              "max                   4.761905e+00   48685.000000    10.00000  "
            ]
          },
          "metadata": {
            "tags": []
          },
          "execution_count": 37
        }
      ]
    },
    {
      "cell_type": "code",
      "metadata": {
        "id": "PiEaBwZgBvry"
      },
      "source": [
        "# importando uma nova biblioteca\n",
        "from matplotlib import pyplot as plt"
      ],
      "execution_count": null,
      "outputs": []
    },
    {
      "cell_type": "code",
      "metadata": {
        "id": "yqzz0EVzBvrz",
        "outputId": "20c3543d-47e5-41a4-b97d-59167c9766ec"
      },
      "source": [
        "mercado.sum()"
      ],
      "execution_count": null,
      "outputs": [
        {
          "output_type": "execute_result",
          "data": {
            "text/plain": [
              "ID                             750-67-8428226-31-3081631-41-3108123-19-117637...\n",
              "Filial                         ACAAACACABBBAAABAAABCBBAAABABABBBACCAACBBCBCCB...\n",
              "Cidade                         YangonNaypyitawYangonYangonYangonNaypyitawYang...\n",
              "Tipo de cliente                MemberNormalNormalMemberNormalNormalMemberNorm...\n",
              "Genero                         FemaleFemaleMaleMaleMaleMaleFemaleFemaleFemale...\n",
              "Linha de produtos              Health and beautyElectronic accessoriesHome an...\n",
              "Preçounitário                                                            55672.1\n",
              "Quantidade                                                                  5510\n",
              "Imposto 5%                                                           8.93888e+06\n",
              "Total                                                                1.87716e+08\n",
              "Data                           1/5/20193/8/20193/3/20191/27/20192/8/20193/25/...\n",
              "Tempo                          13:0810:2913:2320:3310:3718:3014:3611:3817:151...\n",
              "Pagamento                      EwalletCashCredit cardEwalletEwalletEwalletEwa...\n",
              "engrenagens                                                               307587\n",
              "porcentagem da margem bruta                                               4761.9\n",
              "receita bruta                                                        8.93888e+06\n",
              "Avaliação                                                                 6972.7\n",
              "dtype: object"
            ]
          },
          "metadata": {
            "tags": []
          },
          "execution_count": 39
        }
      ]
    },
    {
      "cell_type": "code",
      "metadata": {
        "id": "bVOrbFaDBvrz",
        "outputId": "608dc846-2ee4-4ee4-d517-a41fb1d9c632"
      },
      "source": [
        "# Verificando um quadro geral dos dados na planilha\n",
        "mercado.plot(kind='hist')"
      ],
      "execution_count": null,
      "outputs": [
        {
          "output_type": "execute_result",
          "data": {
            "text/plain": [
              "<AxesSubplot:ylabel='Frequency'>"
            ]
          },
          "metadata": {
            "tags": []
          },
          "execution_count": 40
        },
        {
          "output_type": "display_data",
          "data": {
            "image/png": "[encoded data removed]",
            "text/plain": [
              "<Figure size 432x288 with 1 Axes>"
            ]
          },
          "metadata": {
            "tags": [],
            "needs_background": "light"
          }
        }
      ]
    },
    {
      "cell_type": "code",
      "metadata": {
        "id": "WId1j3-ABvrz"
      },
      "source": [
        "import seaborn as srn\n",
        "import statistics as sts\n",
        "\n",
        "\n"
      ],
      "execution_count": null,
      "outputs": []
    },
    {
      "cell_type": "code",
      "metadata": {
        "id": "ez57CS8pBvr0",
        "outputId": "2a837fbd-d4bf-43df-cc8e-ae32c47a3725"
      },
      "source": [
        "# Boxplot da coluna Avaliação\n",
        "srn.boxplot(mercado['Avaliação']).set_title('Avaliação')"
      ],
      "execution_count": null,
      "outputs": [
        {
          "output_type": "stream",
          "text": [
            "C:\\Users\\Rodrigo_df\\anaconda3\\lib\\site-packages\\seaborn\\_decorators.py:36: FutureWarning: Pass the following variable as a keyword arg: x. From version 0.12, the only valid positional argument will be `data`, and passing other arguments without an explicit keyword will result in an error or misinterpretation.\n",
            "  warnings.warn(\n"
          ],
          "name": "stderr"
        },
        {
          "output_type": "execute_result",
          "data": {
            "text/plain": [
              "Text(0.5, 1.0, 'Avaliação')"
            ]
          },
          "metadata": {
            "tags": []
          },
          "execution_count": 90
        },
        {
          "output_type": "display_data",
          "data": {
            "image/png": "[encoded data removed]",
            "text/plain": [
              "<Figure size 432x288 with 1 Axes>"
            ]
          },
          "metadata": {
            "tags": [],
            "needs_background": "light"
          }
        }
      ]
    },
    {
      "cell_type": "code",
      "metadata": {
        "id": "Pd-RBTVcBvr0",
        "outputId": "f2e513e0-bdb8-461a-c8d2-e0fd974c741a"
      },
      "source": [
        "#Visualizando o gráfico de boxplot dos dados\n",
        "mercado.boxplot(by='Cidade',column='Total')"
      ],
      "execution_count": null,
      "outputs": [
        {
          "output_type": "execute_result",
          "data": {
            "text/plain": [
              "<AxesSubplot:title={'center':'Total'}, xlabel='Cidade'>"
            ]
          },
          "metadata": {
            "tags": []
          },
          "execution_count": 50
        },
        {
          "output_type": "display_data",
          "data": {
            "image/png": "[encoded data removed]",
            "text/plain": [
              "<Figure size 432x288 with 1 Axes>"
            ]
          },
          "metadata": {
            "tags": [],
            "needs_background": "light"
          }
        }
      ]
    },
    {
      "cell_type": "code",
      "metadata": {
        "id": "kM3kGNOEBvr0",
        "outputId": "c578e1b5-222d-4ad1-f3c9-d63c5db63114"
      },
      "source": [
        "# Gerando um Gráfico \n",
        "srn.distplot(mercado['engrenagens']).set_title('engrenagens')"
      ],
      "execution_count": null,
      "outputs": [
        {
          "output_type": "stream",
          "text": [
            "C:\\Users\\Rodrigo_df\\anaconda3\\lib\\site-packages\\seaborn\\distributions.py:2551: FutureWarning: `distplot` is a deprecated function and will be removed in a future version. Please adapt your code to use either `displot` (a figure-level function with similar flexibility) or `histplot` (an axes-level function for histograms).\n",
            "  warnings.warn(msg, FutureWarning)\n"
          ],
          "name": "stderr"
        },
        {
          "output_type": "execute_result",
          "data": {
            "text/plain": [
              "Text(0.5, 1.0, 'engrenagens')"
            ]
          },
          "metadata": {
            "tags": []
          },
          "execution_count": 52
        },
        {
          "output_type": "display_data",
          "data": {
            "image/png": "[encoded data removed]",
            "text/plain": [
              "<Figure size 432x288 with 1 Axes>"
            ]
          },
          "metadata": {
            "tags": [],
            "needs_background": "light"
          }
        }
      ]
    },
    {
      "cell_type": "code",
      "metadata": {
        "id": "Jgo6K_OjBvr1",
        "outputId": "202984d9-0b2b-4f4a-ac06-42545ab5ff73"
      },
      "source": [
        "mercado['Imposto 5%'].isnull().sum()"
      ],
      "execution_count": null,
      "outputs": [
        {
          "output_type": "execute_result",
          "data": {
            "text/plain": [
              "0"
            ]
          },
          "metadata": {
            "tags": []
          },
          "execution_count": 53
        }
      ]
    },
    {
      "cell_type": "code",
      "metadata": {
        "id": "C41Mk0ucBvr1",
        "outputId": "2b391be4-4a4f-4800-aee8-a196a50bfdb5"
      },
      "source": [
        "# Verificando se existem dados duplicados\n",
        "mercado[mercado.duplicated(['ID'],keep = False)]"
      ],
      "execution_count": null,
      "outputs": [
        {
          "output_type": "execute_result",
          "data": {
            "text/html": [
              "<div>\n",
              "<style scoped>\n",
              "    .dataframe tbody tr th:only-of-type {\n",
              "        vertical-align: middle;\n",
              "    }\n",
              "\n",
              "    .dataframe tbody tr th {\n",
              "        vertical-align: top;\n",
              "    }\n",
              "\n",
              "    .dataframe thead th {\n",
              "        text-align: right;\n",
              "    }\n",
              "</style>\n",
              "<table border=\"1\" class=\"dataframe\">\n",
              "  <thead>\n",
              "    <tr style=\"text-align: right;\">\n",
              "      <th></th>\n",
              "      <th>ID</th>\n",
              "      <th>Filial</th>\n",
              "      <th>Cidade</th>\n",
              "      <th>Tipo de cliente</th>\n",
              "      <th>Genero</th>\n",
              "      <th>Linha de produtos</th>\n",
              "      <th>Preçounitário</th>\n",
              "      <th>Quantidade</th>\n",
              "      <th>Imposto 5%</th>\n",
              "      <th>Total</th>\n",
              "      <th>Data</th>\n",
              "      <th>Tempo</th>\n",
              "      <th>Pagamento</th>\n",
              "      <th>engrenagens</th>\n",
              "      <th>porcentagem da margem bruta</th>\n",
              "      <th>receita bruta</th>\n",
              "      <th>Avaliação</th>\n",
              "    </tr>\n",
              "  </thead>\n",
              "  <tbody>\n",
              "  </tbody>\n",
              "</table>\n",
              "</div>"
            ],
            "text/plain": [
              "Empty DataFrame\n",
              "Columns: [ID, Filial, Cidade, Tipo de cliente, Genero, Linha de produtos, Preçounitário, Quantidade, Imposto 5%, Total, Data, Tempo, Pagamento, engrenagens, porcentagem da margem bruta, receita bruta, Avaliação]\n",
              "Index: []"
            ]
          },
          "metadata": {
            "tags": []
          },
          "execution_count": 56
        }
      ]
    },
    {
      "cell_type": "code",
      "metadata": {
        "id": "VcbeoXumBvr1",
        "outputId": "6dc679d7-0aa3-40a2-c34a-bed53e2888eb"
      },
      "source": [
        "# # Quantidade de Homens e Mulheres\n",
        "agrupado = mercado.groupby(['Genero']).size()\n",
        "agrupado"
      ],
      "execution_count": null,
      "outputs": [
        {
          "output_type": "execute_result",
          "data": {
            "text/plain": [
              "Genero\n",
              "Female    501\n",
              "Male      499\n",
              "dtype: int64"
            ]
          },
          "metadata": {
            "tags": []
          },
          "execution_count": 57
        }
      ]
    },
    {
      "cell_type": "code",
      "metadata": {
        "id": "sZPaklwPBvr1",
        "outputId": "59e585df-35e0-426d-be06-e8108c7d2b8a"
      },
      "source": [
        "# A diferença é miníma como pode ser visualizada no gráfico\n",
        "agrupado.plot.bar(color = 'gray')"
      ],
      "execution_count": null,
      "outputs": [
        {
          "output_type": "execute_result",
          "data": {
            "text/plain": [
              "<AxesSubplot:xlabel='Tipo de cliente'>"
            ]
          },
          "metadata": {
            "tags": []
          },
          "execution_count": 67
        },
        {
          "output_type": "display_data",
          "data": {
            "image/png": "[encoded data removed]",
            "text/plain": [
              "<Figure size 432x288 with 1 Axes>"
            ]
          },
          "metadata": {
            "tags": [],
            "needs_background": "light"
          }
        }
      ]
    },
    {
      "cell_type": "code",
      "metadata": {
        "id": "Q_oII7cMBvr2",
        "outputId": "b87d0f60-2257-4718-f5c3-b2bdfa4be9d3"
      },
      "source": [
        "agrupado = mercado.groupby(['Tipo de cliente']).size()\n",
        "agrupado"
      ],
      "execution_count": null,
      "outputs": [
        {
          "output_type": "execute_result",
          "data": {
            "text/plain": [
              "Tipo de cliente\n",
              "Member    501\n",
              "Normal    499\n",
              "dtype: int64"
            ]
          },
          "metadata": {
            "tags": []
          },
          "execution_count": 68
        }
      ]
    },
    {
      "cell_type": "code",
      "metadata": {
        "id": "5HLu90cLBvr2",
        "outputId": "cb3e502c-f039-4f63-9a00-ebc4f0d67627"
      },
      "source": [
        "agrupado = mercado.groupby(['Linha de produtos']).size()\n",
        "agrupado"
      ],
      "execution_count": null,
      "outputs": [
        {
          "output_type": "execute_result",
          "data": {
            "text/plain": [
              "Linha de produtos\n",
              "Electronic accessories    170\n",
              "Fashion accessories       178\n",
              "Food and beverages        174\n",
              "Health and beauty         152\n",
              "Home and lifestyle        160\n",
              "Sports and travel         166\n",
              "dtype: int64"
            ]
          },
          "metadata": {
            "tags": []
          },
          "execution_count": 69
        }
      ]
    },
    {
      "cell_type": "code",
      "metadata": {
        "id": "pTYCLK9WBvr2",
        "outputId": "95ac206e-43a3-45b2-bd0b-65584822f36f"
      },
      "source": [
        "# Gráfico por quantidade de cada tipo de produto\n",
        "agrupado.plot.bar(color = 'gray')"
      ],
      "execution_count": null,
      "outputs": [
        {
          "output_type": "execute_result",
          "data": {
            "text/plain": [
              "<AxesSubplot:xlabel='Linha de produtos'>"
            ]
          },
          "metadata": {
            "tags": []
          },
          "execution_count": 70
        },
        {
          "output_type": "display_data",
          "data": {
            "image/png": "[encoded data removed]",
            "text/plain": [
              "<Figure size 432x288 with 1 Axes>"
            ]
          },
          "metadata": {
            "tags": [],
            "needs_background": "light"
          }
        }
      ]
    },
    {
      "cell_type": "code",
      "metadata": {
        "id": "5-6w0Gg4Bvr3",
        "outputId": "0b03e448-8603-4b02-d5db-9bff74ea3506"
      },
      "source": [
        "# Quantas compras foram registradas na base\n",
        "agrupado = mercado.groupby(['ID']).size()\n",
        "agrupado"
      ],
      "execution_count": null,
      "outputs": [
        {
          "output_type": "execute_result",
          "data": {
            "text/plain": [
              "ID\n",
              "101-17-6199    1\n",
              "101-81-4070    1\n",
              "102-06-2002    1\n",
              "102-77-2261    1\n",
              "105-10-6182    1\n",
              "              ..\n",
              "894-41-5205    1\n",
              "895-03-6665    1\n",
              "895-66-0685    1\n",
              "896-34-0956    1\n",
              "898-04-2717    1\n",
              "Length: 1000, dtype: int64"
            ]
          },
          "metadata": {
            "tags": []
          },
          "execution_count": 71
        }
      ]
    },
    {
      "cell_type": "code",
      "metadata": {
        "id": "NyW-HpowBvr3",
        "outputId": "1abcb546-0f01-434b-ceb0-39a828d2beb4"
      },
      "source": [
        "# Foi verificado que não temos números repetidos na Base\n",
        "mercado['ID'].nunique()"
      ],
      "execution_count": null,
      "outputs": [
        {
          "output_type": "execute_result",
          "data": {
            "text/plain": [
              "1000"
            ]
          },
          "metadata": {
            "tags": []
          },
          "execution_count": 72
        }
      ]
    },
    {
      "cell_type": "markdown",
      "metadata": {
        "id": "0ejgrkyNBvr3"
      },
      "source": [
        ""
      ]
    },
    {
      "cell_type": "code",
      "metadata": {
        "id": "kCRFJSZVBvr3",
        "outputId": "6dbd82fb-dc10-4b0e-bc38-789baf233a0f"
      },
      "source": [
        "# Criando uma atribuição para quantidade de compras feita por homens\n",
        "\n",
        "mercado[(mercado['Genero'] == 'Male')]\n",
        "\n",
        "# Contando quantas linhas possue o filtro realizado\n",
        "mercado[(mercado['Genero'] == 'Male')]['ID'].count()"
      ],
      "execution_count": null,
      "outputs": [
        {
          "output_type": "execute_result",
          "data": {
            "text/plain": [
              "499"
            ]
          },
          "metadata": {
            "tags": []
          },
          "execution_count": 73
        }
      ]
    },
    {
      "cell_type": "code",
      "metadata": {
        "id": "IEd_pYACBvr4",
        "outputId": "9b3f10b8-c05d-47b7-8f0c-f46fe3bde310"
      },
      "source": [
        "# Criando uma atribuição para quantidade de compras feita por mulheres\n",
        "\n",
        "mercado[(mercado['Genero'] == 'Female')]\n",
        "\n",
        "# Contando quantas linhas possue o filtro realizado\n",
        "mercado[(mercado['Genero'] == 'Female')]['ID'].count()"
      ],
      "execution_count": null,
      "outputs": [
        {
          "output_type": "execute_result",
          "data": {
            "text/plain": [
              "501"
            ]
          },
          "metadata": {
            "tags": []
          },
          "execution_count": 74
        }
      ]
    },
    {
      "cell_type": "code",
      "metadata": {
        "id": "f5iEx2pKBvr4",
        "outputId": "e237c763-91b2-4335-ba38-a98e60a31820"
      },
      "source": [
        "# Filial que teve mais vendas efetuadas\n",
        "\n",
        "mercado['Filial'].value_counts()"
      ],
      "execution_count": null,
      "outputs": [
        {
          "output_type": "execute_result",
          "data": {
            "text/plain": [
              "A    340\n",
              "B    332\n",
              "C    328\n",
              "Name: Filial, dtype: int64"
            ]
          },
          "metadata": {
            "tags": []
          },
          "execution_count": 75
        }
      ]
    },
    {
      "cell_type": "code",
      "metadata": {
        "id": "d9Yc6_ZPBvr4",
        "outputId": "548b5408-23fc-4fbd-d1bf-f54d0b35adef"
      },
      "source": [
        "# Testando outra forma de fazer a mesma contagem\n",
        "agrupado = mercado.groupby(['Filial']).size()\n",
        "agrupado"
      ],
      "execution_count": null,
      "outputs": [
        {
          "output_type": "execute_result",
          "data": {
            "text/plain": [
              "Filial\n",
              "A    340\n",
              "B    332\n",
              "C    328\n",
              "dtype: int64"
            ]
          },
          "metadata": {
            "tags": []
          },
          "execution_count": 76
        }
      ]
    },
    {
      "cell_type": "code",
      "metadata": {
        "id": "VK6sHb02Bvr4",
        "outputId": "0e37e26a-11cc-48f3-abe6-303b5dbe6918"
      },
      "source": [
        "# Gráfico para análise\n",
        "agrupado.plot.bar(color = 'blue')"
      ],
      "execution_count": null,
      "outputs": [
        {
          "output_type": "execute_result",
          "data": {
            "text/plain": [
              "<AxesSubplot:xlabel='Filial'>"
            ]
          },
          "metadata": {
            "tags": []
          },
          "execution_count": 77
        },
        {
          "output_type": "display_data",
          "data": {
            "image/png": "[encoded data removed]",
            "text/plain": [
              "<Figure size 432x288 with 1 Axes>"
            ]
          },
          "metadata": {
            "tags": [],
            "needs_background": "light"
          }
        }
      ]
    },
    {
      "cell_type": "code",
      "metadata": {
        "id": "9cUE4N2YBvr5",
        "outputId": "af4fbcd3-660f-46f5-ed79-80e6c3cec4a9"
      },
      "source": [
        "# Qual filial as mulheres e homens fizeram mais compras\n",
        "\n",
        "mercado.groupby(['Filial','Genero'])['ID'].count()"
      ],
      "execution_count": null,
      "outputs": [
        {
          "output_type": "execute_result",
          "data": {
            "text/plain": [
              "Filial  Genero\n",
              "A       Female    161\n",
              "        Male      179\n",
              "B       Female    162\n",
              "        Male      170\n",
              "C       Female    178\n",
              "        Male      150\n",
              "Name: ID, dtype: int64"
            ]
          },
          "metadata": {
            "tags": []
          },
          "execution_count": 78
        }
      ]
    },
    {
      "cell_type": "code",
      "metadata": {
        "id": "DLZuO7-9Bvr5",
        "outputId": "7c4cd806-797d-4e04-e549-a4e87ba314aa"
      },
      "source": [
        "# Valor medio de compras na cidade Mandalay\n",
        "\n",
        "ds_temp = mercado[(mercado['Cidade'] == 'Mandalay')]\n",
        "\n",
        "ds_temp[(mercado['Tipo de cliente'] == 'Member')]['Total'].describe()"
      ],
      "execution_count": null,
      "outputs": [
        {
          "output_type": "stream",
          "text": [
            "<ipython-input-79-68873ba6e6d1>:5: UserWarning: Boolean Series key will be reindexed to match DataFrame index.\n",
            "  ds_temp[(mercado['Tipo de cliente'] == 'Member')]['Total'].describe()\n"
          ],
          "name": "stderr"
        },
        {
          "output_type": "execute_result",
          "data": {
            "text/plain": [
              "count       165.000000\n",
              "mean     189671.383873\n",
              "std      238655.073134\n",
              "min          20.107500\n",
              "25%         411.379500\n",
              "50%       91056.000000\n",
              "75%      317835.000000\n",
              "max      944622.000000\n",
              "Name: Total, dtype: float64"
            ]
          },
          "metadata": {
            "tags": []
          },
          "execution_count": 79
        }
      ]
    },
    {
      "cell_type": "code",
      "metadata": {
        "id": "Jv_PcjIOBvr5"
      },
      "source": [
        "import requests\n",
        "from io import StringIO"
      ],
      "execution_count": null,
      "outputs": []
    },
    {
      "cell_type": "code",
      "metadata": {
        "id": "vsrs7E06Bvr5",
        "outputId": "2e0724c5-317e-454e-f5df-286243ad660a"
      },
      "source": [
        "mercado.groupby(['Cidade'])['Total'].describe()"
      ],
      "execution_count": null,
      "outputs": [
        {
          "output_type": "execute_result",
          "data": {
            "text/html": [
              "<div>\n",
              "<style scoped>\n",
              "    .dataframe tbody tr th:only-of-type {\n",
              "        vertical-align: middle;\n",
              "    }\n",
              "\n",
              "    .dataframe tbody tr th {\n",
              "        vertical-align: top;\n",
              "    }\n",
              "\n",
              "    .dataframe thead th {\n",
              "        text-align: right;\n",
              "    }\n",
              "</style>\n",
              "<table border=\"1\" class=\"dataframe\">\n",
              "  <thead>\n",
              "    <tr style=\"text-align: right;\">\n",
              "      <th></th>\n",
              "      <th>count</th>\n",
              "      <th>mean</th>\n",
              "      <th>std</th>\n",
              "      <th>min</th>\n",
              "      <th>25%</th>\n",
              "      <th>50%</th>\n",
              "      <th>75%</th>\n",
              "      <th>max</th>\n",
              "    </tr>\n",
              "    <tr>\n",
              "      <th>Cidade</th>\n",
              "      <th></th>\n",
              "      <th></th>\n",
              "      <th></th>\n",
              "      <th></th>\n",
              "      <th></th>\n",
              "      <th></th>\n",
              "      <th></th>\n",
              "      <th></th>\n",
              "    </tr>\n",
              "  </thead>\n",
              "  <tbody>\n",
              "    <tr>\n",
              "      <th>Mandalay</th>\n",
              "      <td>332.0</td>\n",
              "      <td>202826.115361</td>\n",
              "      <td>243138.062218</td>\n",
              "      <td>18.6375</td>\n",
              "      <td>422.428125</td>\n",
              "      <td>117484.5</td>\n",
              "      <td>333490.50</td>\n",
              "      <td>1022385.0</td>\n",
              "    </tr>\n",
              "    <tr>\n",
              "      <th>Naypyitaw</th>\n",
              "      <td>328.0</td>\n",
              "      <td>173518.808675</td>\n",
              "      <td>233878.059940</td>\n",
              "      <td>10.6785</td>\n",
              "      <td>343.573125</td>\n",
              "      <td>55461.0</td>\n",
              "      <td>293564.25</td>\n",
              "      <td>1020705.0</td>\n",
              "    </tr>\n",
              "    <tr>\n",
              "      <th>Yangon</th>\n",
              "      <td>340.0</td>\n",
              "      <td>186659.000263</td>\n",
              "      <td>233830.604161</td>\n",
              "      <td>12.6945</td>\n",
              "      <td>363.720000</td>\n",
              "      <td>92778.0</td>\n",
              "      <td>287295.75</td>\n",
              "      <td>951825.0</td>\n",
              "    </tr>\n",
              "  </tbody>\n",
              "</table>\n",
              "</div>"
            ],
            "text/plain": [
              "           count           mean            std      min         25%       50%  \\\n",
              "Cidade                                                                          \n",
              "Mandalay   332.0  202826.115361  243138.062218  18.6375  422.428125  117484.5   \n",
              "Naypyitaw  328.0  173518.808675  233878.059940  10.6785  343.573125   55461.0   \n",
              "Yangon     340.0  186659.000263  233830.604161  12.6945  363.720000   92778.0   \n",
              "\n",
              "                 75%        max  \n",
              "Cidade                           \n",
              "Mandalay   333490.50  1022385.0  \n",
              "Naypyitaw  293564.25  1020705.0  \n",
              "Yangon     287295.75   951825.0  "
            ]
          },
          "metadata": {
            "tags": []
          },
          "execution_count": 81
        }
      ]
    },
    {
      "cell_type": "markdown",
      "metadata": {
        "id": "C-C9esHNBvr6"
      },
      "source": [
        ""
      ]
    },
    {
      "cell_type": "markdown",
      "metadata": {
        "id": "-4JILzezBvr6"
      },
      "source": [
        ""
      ]
    },
    {
      "cell_type": "code",
      "metadata": {
        "id": "4pt9yWLeBvr6",
        "outputId": "873d67ed-334c-483e-c736-23bb4033c467"
      },
      "source": [
        "mercado.boxplot(by='Cidade',column='Total')\n"
      ],
      "execution_count": null,
      "outputs": [
        {
          "output_type": "execute_result",
          "data": {
            "text/plain": [
              "<AxesSubplot:title={'center':'Total'}, xlabel='Cidade'>"
            ]
          },
          "metadata": {
            "tags": []
          },
          "execution_count": 82
        },
        {
          "output_type": "display_data",
          "data": {
            "image/png": "[encoded data removed]",
            "text/plain": [
              "<Figure size 432x288 with 1 Axes>"
            ]
          },
          "metadata": {
            "tags": [],
            "needs_background": "light"
          }
        }
      ]
    },
    {
      "cell_type": "code",
      "metadata": {
        "id": "DxWCcAeWBvr6",
        "outputId": "f2a07cf9-366f-4720-98f9-cf8c13e72524"
      },
      "source": [
        "# Verificando os tipos de pagamentos\n",
        "mercado.groupby(['Pagamento'])['ID'].count()"
      ],
      "execution_count": null,
      "outputs": [
        {
          "output_type": "execute_result",
          "data": {
            "text/plain": [
              "Pagamento\n",
              "Cash           344\n",
              "Credit card    311\n",
              "Ewallet        345\n",
              "Name: ID, dtype: int64"
            ]
          },
          "metadata": {
            "tags": []
          },
          "execution_count": 85
        }
      ]
    },
    {
      "cell_type": "code",
      "metadata": {
        "id": "85a1FldeBvr6",
        "outputId": "39979108-699b-4968-aa18-635b85620029"
      },
      "source": [
        ""
      ],
      "execution_count": null,
      "outputs": [
        {
          "output_type": "error",
          "ename": "NameError",
          "evalue": "name 'mercado_consults' is not defined",
          "traceback": [
            "\u001b[1;31m---------------------------------------------------------------------------\u001b[0m",
            "\u001b[1;31mNameError\u001b[0m                                 Traceback (most recent call last)",
            "\u001b[1;32m<ipython-input-86-7be470d7d60e>\u001b[0m in \u001b[0;36m<module>\u001b[1;34m\u001b[0m\n\u001b[1;32m----> 1\u001b[1;33m \u001b[0mmercado_consults\u001b[0m\u001b[1;33m[\u001b[0m\u001b[1;36m10\u001b[0m\u001b[1;33m:\u001b[0m\u001b[1;36m3\u001b[0m\u001b[1;33m]\u001b[0m\u001b[1;33m\u001b[0m\u001b[1;33m\u001b[0m\u001b[0m\n\u001b[0m",
            "\u001b[1;31mNameError\u001b[0m: name 'mercado_consults' is not defined"
          ]
        }
      ]
    },
    {
      "cell_type": "code",
      "metadata": {
        "id": "jHkRwOBiBvr7"
      },
      "source": [
        ""
      ],
      "execution_count": null,
      "outputs": []
    },
    {
      "cell_type": "code",
      "metadata": {
        "id": "d8pD-nzlBvr7"
      },
      "source": [
        ""
      ],
      "execution_count": null,
      "outputs": []
    },
    {
      "cell_type": "code",
      "metadata": {
        "id": "3qRT4LQ_Bvr7"
      },
      "source": [
        ""
      ],
      "execution_count": null,
      "outputs": []
    },
    {
      "cell_type": "code",
      "metadata": {
        "id": "BiR4M5chBvr7"
      },
      "source": [
        ""
      ],
      "execution_count": null,
      "outputs": []
    },
    {
      "cell_type": "code",
      "metadata": {
        "id": "45jiTuHBBvr7"
      },
      "source": [
        ""
      ],
      "execution_count": null,
      "outputs": []
    },
    {
      "cell_type": "code",
      "metadata": {
        "id": "QLzrf-LbBvr7"
      },
      "source": [
        ""
      ],
      "execution_count": null,
      "outputs": []
    },
    {
      "cell_type": "code",
      "metadata": {
        "id": "StoVYo92Bvr7"
      },
      "source": [
        ""
      ],
      "execution_count": null,
      "outputs": []
    },
    {
      "cell_type": "code",
      "metadata": {
        "id": "tKSUtkDkBvr8"
      },
      "source": [
        ""
      ],
      "execution_count": null,
      "outputs": []
    }
  ]
}